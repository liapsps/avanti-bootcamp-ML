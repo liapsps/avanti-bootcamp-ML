{
 "cells": [
  {
   "cell_type": "code",
   "execution_count": null,
   "id": "3b1f72b5",
   "metadata": {},
   "outputs": [],
   "source": [
    "import pandas as pd"
   ]
  },
  {
   "cell_type": "markdown",
   "id": "ee9e83ed",
   "metadata": {},
   "source": [
    "# ET-01 – Exploração do Dataset"
   ]
  }
 ],
 "metadata": {
  "language_info": {
   "name": "python"
  }
 },
 "nbformat": 4,
 "nbformat_minor": 5
}
